{
 "cells": [
  {
   "cell_type": "markdown",
   "metadata": {},
   "source": [
    "### This section deals with the missing values in the raw dataset('missing_data.csv')"
   ]
  },
  {
   "cell_type": "markdown",
   "metadata": {},
   "source": [
    "# Dataset\n",
    "\n",
    "country : user country based on the IP address\n",
    "\n",
    "age : user age. Self-reported at sign-up step\n",
    "\n",
    "new_user : whether the user created the account during this session or had already an account and simply came back to the site\n",
    "\n",
    "source : marketing channel source\n",
    "\n",
    "Ads: came to the site by clicking on an advertisement\n",
    "Seo: came to the site by clicking on search results\n",
    "Direct: came to the site by directly typing the URL on the browser\n",
    "total_pages_visited: number of total pages visited during the session. This can be seen as a proxy for time spent on site and engagement\n",
    "\n",
    "converted: this is our label. 1 means they converted within the session, 0 means they left without buying anything."
   ]
  },
  {
   "cell_type": "code",
   "execution_count": 11,
   "metadata": {},
   "outputs": [],
   "source": [
    "import pandas\n",
    "import matplotlib.pyplot as plt\n",
    "import numpy as np\n",
    "from sklearn.ensemble import RandomForestClassifier\n",
    "from sklearn.metrics import confusion_matrix\n",
    "from sklearn.model_selection import train_test_split"
   ]
  },
  {
   "cell_type": "code",
   "execution_count": 12,
   "metadata": {},
   "outputs": [],
   "source": [
    "data = pandas.read_csv('missing_data.csv')"
   ]
  },
  {
   "cell_type": "code",
   "execution_count": 8,
   "metadata": {},
   "outputs": [
    {
     "name": "stdout",
     "output_type": "stream",
     "text": [
      "       country            age      is_mobile  source      converted\n",
      "count    95502  120704.000000  120704.000000  120704  120704.000000\n",
      "unique       3            NaN            NaN       3            NaN\n",
      "top         UK            NaN            NaN     Seo            NaN\n",
      "freq     69626            NaN            NaN   59324            NaN\n",
      "mean       NaN      44.575258       0.631006     NaN       0.169845\n",
      "std        NaN      11.661944       0.482534     NaN       0.375498\n",
      "min        NaN      17.000000       0.000000     NaN       0.000000\n",
      "25%        NaN      36.000000       0.000000     NaN       0.000000\n",
      "50%        NaN      44.000000       1.000000     NaN       0.000000\n",
      "75%        NaN      53.000000       1.000000     NaN       0.000000\n",
      "max        NaN      80.000000       1.000000     NaN       1.000000\n"
     ]
    }
   ],
   "source": [
    "print(data.describe(include='all'))"
   ]
  },
  {
   "cell_type": "code",
   "execution_count": 9,
   "metadata": {},
   "outputs": [
    {
     "data": {
      "image/png": "[encoded data removed]",
      "text/plain": [
       "<Figure size 432x288 with 1 Axes>"
      ]
     },
     "metadata": {
      "needs_background": "light"
     },
     "output_type": "display_data"
    }
   ],
   "source": [
    "#check conversion rate of missing values vs non-missing values\n",
    "#Group by country and check conversion rate\n",
    "data.fillna(\"missing_country\").groupby(['country'])['converted'].mean().plot.bar()\n",
    "plt.xticks(rotation=0)\n",
    "tplt.show()"
   ]
  },
  {
   "cell_type": "markdown",
   "metadata": {},
   "source": [
    "The conversion rate tend to be much worse when the country is missing. This is an example of self-selection bias. The least engaged customers are usually those who choose not to fill out certain information thenselves. \n"
   ]
  },
  {
   "cell_type": "markdown",
   "metadata": {},
   "source": [
    "### Replace missing values with values sampled with replacement from that variable.\n"
   ]
  },
  {
   "cell_type": "code",
   "execution_count": 13,
   "metadata": {},
   "outputs": [
    {
     "name": "stdout",
     "output_type": "stream",
     "text": [
      "       0      1\n",
      "0  23770  10370\n",
      "1   2078   4822\n"
     ]
    }
   ],
   "source": [
    "#set seed to reproduce the results\n",
    "np.random.seed(46)\n",
    "  \n",
    "data_replace = data.copy()\n",
    "  \n",
    "#split into train and test \n",
    "train, test = train_test_split(data_replace, test_size = 0.34)\n",
    "train = train.reset_index(drop=True).copy()\n",
    "test =  test.reset_index(drop=True).copy()\n",
    "  \n",
    "#replace NAs with randomly selected countries according to the origianl country distribution\n",
    "train['country'] = train['country'].fillna(pandas.Series(np.random.choice( train['country'].dropna() , size=len(train['country']) )))\n",
    "test['country'] = test['country'].fillna(pandas.Series(np.random.choice( test['country'].dropna() , size=len(test['country']) )))\n",
    "  \n",
    "#create dummies\n",
    "train = pandas.get_dummies(train, drop_first=True)\n",
    "test =  pandas.get_dummies(test, drop_first=True)\n",
    "  \n",
    "#build the model. We will use a RF, but it is the same with any other model. We balance the weights to reduce class 1 errors\n",
    "rf_replace_sampling = RandomForestClassifier(n_estimators=50, oob_score=True, class_weight={0:1,1:5})\n",
    "rf_replace_sampling.fit(train.drop('converted', axis=1), train['converted'])\n",
    "  \n",
    "#print test set confusion matrix\n",
    "conf_matrix_sampling = pandas.DataFrame(confusion_matrix(test['converted'], rf_replace_sampling.predict(test.drop('converted', axis=1)), labels=[0, 1]))\n",
    "print(conf_matrix_sampling)"
   ]
  },
  {
   "cell_type": "code",
   "execution_count": 14,
   "metadata": {},
   "outputs": [
    {
     "name": "stdout",
     "output_type": "stream",
     "text": [
      "   accuracy  class0_error  class1_error\n",
      "0  0.696686      0.303749      0.301159\n"
     ]
    }
   ],
   "source": [
    "#print model accuracy and class errors\n",
    "class0_error = 1 - conf_matrix_sampling.loc[0,0]/(conf_matrix_sampling.loc[0,0]+conf_matrix_sampling.loc[0,1])\n",
    "class1_error = 1 - conf_matrix_sampling.loc[1,1]/(conf_matrix_sampling.loc[1,0]+conf_matrix_sampling.loc[1,1])\n",
    "  \n",
    "print(pandas.DataFrame( {'accuracy': rf_replace_sampling.score(test.drop('converted', axis=1),test['converted']),\n",
    "                         'class0_error' :[class0_error],\n",
    "                         'class1_error' :[class1_error]\n",
    "}))"
   ]
  },
  {
   "cell_type": "code",
   "execution_count": 15,
   "metadata": {},
   "outputs": [
    {
     "data": {
      "image/png": "[encoded data removed]",
      "text/plain": [
       "<Figure size 432x288 with 1 Axes>"
      ]
     },
     "metadata": {
      "needs_background": "light"
     },
     "output_type": "display_data"
    }
   ],
   "source": [
    "#variable importance\n",
    "pandas.Series(rf_replace_sampling.feature_importances_, index=train.drop('converted', axis=1).columns).sort_values(ascending=True).plot(kind='barh')\n",
    "plt.show()"
   ]
  },
  {
   "cell_type": "markdown",
   "metadata": {},
   "source": [
    "### create a dummy variable to indicate missing value"
   ]
  },
  {
   "cell_type": "code",
   "execution_count": 16,
   "metadata": {},
   "outputs": [
    {
     "name": "stdout",
     "output_type": "stream",
     "text": [
      "       0     1\n",
      "0  25158  8822\n",
      "1   1898  5162\n"
     ]
    }
   ],
   "source": [
    "#replace missing values with \"missing_country\". Need to convert it to character and then back to factor\n",
    "data['country'] = data['country'].fillna(\"missing_country\")\n",
    "  \n",
    "#create dummy vars\n",
    "data = pandas.get_dummies(data, drop_first=True)\n",
    "  \n",
    "#split test/train\n",
    "train_leave_NA, test_leave_NA = train_test_split(data, test_size = 0.34)\n",
    "  \n",
    "#build the model. We will use a RF, but it is the same with any other model. We slightly adjust the weights to reduce class 1 errors\n",
    "rf_model_leave_NA = RandomForestClassifier(n_estimators=50, oob_score=True, class_weight={0:1,1:5})\n",
    "rf_model_leave_NA.fit(train_leave_NA.drop('converted', axis=1), train_leave_NA['converted'])\n",
    "#and let's print test set confusion matrix\n",
    "conf_matrix_leave_NA = pandas.DataFrame(confusion_matrix(test_leave_NA['converted'], rf_model_leave_NA.predict(test_leave_NA.drop('converted', axis=1)), labels=[0, 1]))\n",
    "print(conf_matrix_leave_NA)"
   ]
  },
  {
   "cell_type": "code",
   "execution_count": 17,
   "metadata": {},
   "outputs": [
    {
     "name": "stdout",
     "output_type": "stream",
     "text": [
      "   accuracy_leave_NA  class0_error_leave_NA  class1_error_leave_NA\n",
      "0           0.738791               0.259623               0.268839\n"
     ]
    }
   ],
   "source": [
    "#print model accuracy and class errors\n",
    "class0_error_leave_NA = 1 - conf_matrix_leave_NA.loc[0,0]/(conf_matrix_leave_NA.loc[0,0]+conf_matrix_leave_NA.loc[0,1])\n",
    "class1_error_leave_NA = 1 - conf_matrix_leave_NA.loc[1,1]/(conf_matrix_leave_NA.loc[1,0]+conf_matrix_leave_NA.loc[1,1])\n",
    "print(pandas.DataFrame( {'accuracy_leave_NA': rf_model_leave_NA.score(test_leave_NA.drop('converted', axis=1),test_leave_NA['converted']),\n",
    "                         'class0_error_leave_NA' :[class0_error_leave_NA],\n",
    "                         'class1_error_leave_NA' :[class1_error_leave_NA]\n",
    "}))"
   ]
  },
  {
   "cell_type": "code",
   "execution_count": 18,
   "metadata": {},
   "outputs": [
    {
     "data": {
      "image/png": "[encoded data removed]",
      "text/plain": [
       "<Figure size 432x288 with 1 Axes>"
      ]
     },
     "metadata": {
      "needs_background": "light"
     },
     "output_type": "display_data"
    }
   ],
   "source": [
    "#variable importance\n",
    "pandas.Series(rf_model_leave_NA.feature_importances_, index=train_leave_NA.drop('converted', axis=1).columns).sort_values(ascending=True).plot(kind='barh')\n",
    "plt.show()"
   ]
  },
  {
   "cell_type": "markdown",
   "metadata": {},
   "source": [
    "Base on the two variable importance plots, the dummy variable “missing_country” is extremely important by itself. By removing it, we would be losing crucial information used by the model\n",
    "\n",
    "\n",
    "Interestingly, the importance of the other country levels (UK and Ireland) goes down when we replace the missing values by sampling. This is because we “polluted” their information by adding new events with totally different distribution, i.e. much lower conversion rate. So we made those segments noisier and the model is having a harder time extracting information out of them\n",
    "\n",
    "\n",
    "The model with “missing_country” does significantly better than the one where we replaced NAs by sampling. Accuracy, class 0 error, and class 1 error are all significantly better when using “missing_country”.\n",
    "\n"
   ]
  }
 ],
 "metadata": {
  "kernelspec": {
   "display_name": "Python 3",
   "language": "python",
   "name": "python3"
  },
  "language_info": {
   "codemirror_mode": {
    "name": "ipython",
    "version": 3
   },
   "file_extension": ".py",
   "mimetype": "text/x-python",
   "name": "python",
   "nbconvert_exporter": "python",
   "pygments_lexer": "ipython3",
   "version": "3.8.3"
  }
 },
 "nbformat": 4,
 "nbformat_minor": 4
}
